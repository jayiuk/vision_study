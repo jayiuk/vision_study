{
 "cells": [
  {
   "cell_type": "markdown",
   "metadata": {},
   "source": [
    "![resnet](https://github.com/user-attachments/assets/c85e0a97-7212-447c-b575-82aabb7d1b78)"
   ]
  },
  {
   "cell_type": "markdown",
   "metadata": {},
   "source": [
    "- import libraries"
   ]
  },
  {
   "cell_type": "code",
   "execution_count": 1,
   "metadata": {},
   "outputs": [
    {
     "name": "stderr",
     "output_type": "stream",
     "text": [
      "c:\\Users\\jayiu\\anaconda3\\envs\\nlp\\lib\\site-packages\\tqdm\\auto.py:21: TqdmWarning: IProgress not found. Please update jupyter and ipywidgets. See https://ipywidgets.readthedocs.io/en/stable/user_install.html\n",
      "  from .autonotebook import tqdm as notebook_tqdm\n"
     ]
    }
   ],
   "source": [
    "import torch\n",
    "import torch.nn as nn\n",
    "import torch.optim as optim\n",
    "import torch.nn.init as init\n",
    "import torch.utils.data as data\n",
    "import torchvision.datasets as dset\n",
    "import torchvision.transforms as transforms\n",
    "from torch.utils.data import DataLoader"
   ]
  },
  {
   "cell_type": "code",
   "execution_count": 2,
   "metadata": {},
   "outputs": [],
   "source": [
    "import shutil\n",
    "\n",
    "shutil.rmtree('images')"
   ]
  },
  {
   "cell_type": "code",
   "execution_count": 3,
   "metadata": {},
   "outputs": [
    {
     "name": "stdout",
     "output_type": "stream",
     "text": [
      "Downloaded https://i.kinja-img.com/gawker-media/image/upload/s--WFkXeene--/c_scale,f_auto,fl_progressive,q_80,w_800/ol9ceoqxidudap8owlwn.jpg to images/dogs\\ol9ceoqxidudap8owlwn.jpg\n",
      "Downloaded https://www.rspcansw.org.au/wp-content/uploads/2017/08/50_a-feature_dogs-and-puppies_mobile.jpg to images/dogs\\50_a-feature_dogs-and-puppies_mobile.jpg\n",
      "Downloaded https://www.catster.com/wp-content/uploads/2018/05/A-gray-cat-crying-looking-upset.jpg to images/cats\\A-gray-cat-crying-looking-upset.jpg\n",
      "Failed to download https://www.scarymommy.com/wp-content/uploads/2018/01/c1.jpg?w=700\n"
     ]
    }
   ],
   "source": [
    "import os\n",
    "import requests\n",
    "\n",
    "# 디렉토리 생성\n",
    "try:\n",
    "    os.makedirs(\"images/dogs\", exist_ok=True)\n",
    "    os.makedirs(\"images/cats\", exist_ok=True)\n",
    "except Exception as e:\n",
    "    print(f\"Error creating directories: {e}\")\n",
    "\n",
    "# 이미지 다운로드 함수\n",
    "def download_image(url, folder):\n",
    "    response = requests.get(url)\n",
    "    if response.status_code == 200:\n",
    "        filename = os.path.join(folder, url.split(\"/\")[-1])\n",
    "        with open(filename, 'wb') as f:\n",
    "            f.write(response.content)\n",
    "        print(f\"Downloaded {url} to {filename}\")\n",
    "    else:\n",
    "        print(f\"Failed to download {url}\")\n",
    "\n",
    "# 이미지 다운로드\n",
    "dog_images = [\n",
    "    \"https://i.kinja-img.com/gawker-media/image/upload/s--WFkXeene--/c_scale,f_auto,fl_progressive,q_80,w_800/ol9ceoqxidudap8owlwn.jpg\",\n",
    "    \"https://www.rspcansw.org.au/wp-content/uploads/2017/08/50_a-feature_dogs-and-puppies_mobile.jpg\"\n",
    "]\n",
    "\n",
    "cat_images = [\n",
    "    \"https://www.catster.com/wp-content/uploads/2018/05/A-gray-cat-crying-looking-upset.jpg\",\n",
    "    \"https://www.scarymommy.com/wp-content/uploads/2018/01/c1.jpg?w=700\"\n",
    "]\n",
    "\n",
    "for url in dog_images:\n",
    "    download_image(url, \"images/dogs\")\n",
    "\n",
    "for url in cat_images:\n",
    "    download_image(url, \"images/cats\")"
   ]
  },
  {
   "cell_type": "markdown",
   "metadata": {},
   "source": [
    "- hyperparameter"
   ]
  },
  {
   "cell_type": "code",
   "execution_count": 4,
   "metadata": {},
   "outputs": [],
   "source": [
    "batch_size= 1\n",
    "learning_rate = 0.0002\n",
    "num_epoch = 100"
   ]
  },
  {
   "cell_type": "markdown",
   "metadata": {},
   "source": [
    "- Data Loader"
   ]
  },
  {
   "cell_type": "code",
   "execution_count": 5,
   "metadata": {},
   "outputs": [],
   "source": [
    "img_dir = './images'\n",
    "img_data = dset.ImageFolder(img_dir, transforms.Compose([\n",
    "                                     transforms.Resize(256),\n",
    "                                     transforms.RandomResizedCrop(224),\n",
    "                                     transforms.RandomHorizontalFlip(),\n",
    "                                     transforms.ToTensor(),\n",
    "]))\n",
    "train_loader = data.DataLoader(img_data, batch_size = batch_size, shuffle = True, num_workers = 2)"
   ]
  },
  {
   "cell_type": "markdown",
   "metadata": {},
   "source": [
    "- Model\n",
    "  - Basic Block\n",
    "    - 컨볼루션 연산과 활성화함수는 항상 붙어있음. 이를 함수로 만듬"
   ]
  },
  {
   "cell_type": "code",
   "execution_count": 6,
   "metadata": {},
   "outputs": [],
   "source": [
    "def conv_block_1(in_dim, out_dim, act_fn, stride = 1):\n",
    "    model = nn.Sequential(\n",
    "        nn.Conv2d(in_dim, out_dim, kernel_size = 1, stride = stride),\n",
    "        act_fn,\n",
    "    )\n",
    "    return model\n",
    "\n",
    "def conv_block_3(in_dim, out_dim, act_fn):\n",
    "    model = nn.Sequential(\n",
    "        nn.Conv2d(in_dim, out_dim, kernel_size = 3, stride = 1, padding = 1),\n",
    "        act_fn,\n",
    "    )\n",
    "    return model"
   ]
  },
  {
   "cell_type": "markdown",
   "metadata": {},
   "source": [
    "- Model\n",
    "  - Bottle Neck Module\n",
    "    - 1x1 convolution -> 3x3 convolution -> 1x1 convolution\n",
    "    - 실선은 크기가 변하지 않는 경우, 점선은 크기가 줄어드는 경우\n",
    "    - down변수로 크기 감쇼 여부 표시, 조건문으로 경우의 수를 나눠서 구현\n",
    "    - Skip-connection은 단순 더하기로 정의되어 있음 -> 피쳐맵의 크기를 일치시켜야 함\n",
    "    - 차원을 맞춰주는 역할로 dim_equalizer 정의"
   ]
  },
  {
   "cell_type": "code",
   "execution_count": 7,
   "metadata": {},
   "outputs": [],
   "source": [
    "class BottleNeck(nn.Module):\n",
    "    def __init__(self, in_dim, mid_dim, out_dim, act_fn, down = False):\n",
    "        super(BottleNeck, self).__init__()\n",
    "        self.down = down\n",
    "        \n",
    "        if self.down:\n",
    "            self.layer = nn.Sequential(\n",
    "                conv_block_1(in_dim, mid_dim, act_fn, 2),\n",
    "                conv_block_3(mid_dim, mid_dim, act_fn),\n",
    "                conv_block_1(mid_dim, out_dim, act_fn),\n",
    "            )\n",
    "            self.downsample = nn.conv2d(in_dim, out_dim, 1, 2)\n",
    "        else:\n",
    "            self.layer = nn.Sequential(\n",
    "                conv_block_1(in_dim, mid_dim, act_fn),\n",
    "                conv_block_3(mid_dim, mid_dim, act_fn),\n",
    "                conv_block_1(mid_dim, out_dim, act_fn),\n",
    "            )\n",
    "        \n",
    "        self.dim_equalizer = nn.Conv2d(in_dim, out_dim, kernel_size = 1)\n",
    "        \n",
    "    def forward(self, x):\n",
    "        if self.down:\n",
    "            downsample = self.downsample(x)\n",
    "            out = self.layer(x)\n",
    "            out = out + downsample\n",
    "        else:\n",
    "            out = self.layer(x)\n",
    "            if x.size() is not out.size():\n",
    "                x = self.dim_equalizer(x)\n",
    "            out = out + x\n",
    "        return out"
   ]
  },
  {
   "cell_type": "markdown",
   "metadata": {},
   "source": [
    "- ResNet Model"
   ]
  },
  {
   "cell_type": "code",
   "execution_count": 9,
   "metadata": {},
   "outputs": [],
   "source": [
    "class ResNet(nn.Module):\n",
    "    def __init__(self, base_dim, num_classes = 2):\n",
    "        super(ResNet, self).__init__()\n",
    "        self.act_fn = nn.ReLU()\n",
    "        self.layer_1 = nn.Sequential(\n",
    "            nn.Conv2d(3, base_dim, 7, 2, 3),\n",
    "            nn.ReLU(),\n",
    "            nn.MaxPool2d(3, 2, 1),\n",
    "        )\n",
    "        self.layer_2 = nn.Sequential(\n",
    "            BottleNeck(base_dim, base_dim, base_dim*4, self.act_fn),\n",
    "            BottleNeck(base_dim*4, base_dim, base_dim*4, self.act_fn),\n",
    "            BottleNeck(base_dim*4, base_dim, base_dim*4, self.act_fn, down = True),\n",
    "        )\n",
    "        self.layer_3 = nn.Sequential(\n",
    "            BottleNeck(base_dim*4, base_dim*2, base_dim*8, self.act_fn),\n",
    "            BottleNeck(base_dim*8, base_dim*2, base_dim*8, self.act_fn),\n",
    "            BottleNeck(base_dim*8, base_dim*2, base_dim*8, self.act_fn),\n",
    "            BottleNeck(base_dim*8, base_dim*2, base_dim*8, self.act_fn, down = True),\n",
    "        )\n",
    "        self.layer_4 = nn.Sequential(\n",
    "            BottleNeck(base_dim*8, base_dim*4, base_dim*16, self.act_fn),\n",
    "            BottleNeck(base_dim*16, base_dim*4, base_dim*16, self.act_fn),\n",
    "            BottleNeck(base_dim*16, base_dim*4, base_dim*16, self.act_fn),\n",
    "            BottleNeck(base_dim*16, base_dim*4, base_dim*16, self.act_fn),\n",
    "            BottleNeck(base_dim*16, base_dim*4, base_dim*16, self.act_fn),\n",
    "            BottleNeck(base_dim*16, base_dim*4, base_dim*16, self.act_fn, down = True),\n",
    "        )\n",
    "        self.layer_5 = nn.Sequential(\n",
    "            BottleNeck(base_dim*16, base_dim*8, base_dim*32, self.act_fn),\n",
    "            BottleNeck(base_dim*32, base_dim*8, base_dim*32, self.act_fn),\n",
    "            BottleNeck(base_dim*32, base_dim*8, base_dim*32, self.act_fn),\n",
    "        )\n",
    "        self.avgpool = nn.AvgPool2d(7, 1)\n",
    "        self.fc_layer = nn.Linear(base_dim*32, num_classes)\n",
    "        \n",
    "    def forward(self, x):\n",
    "        out = self.layer_1(x)\n",
    "        out = self.layer_2(out)\n",
    "        out = self.layer_3(out)\n",
    "        out = self.layer_4(out)\n",
    "        out = self.layer_5(out)\n",
    "        out - self.avgpool(out)\n",
    "        out = out.view(batch_size, -1)\n",
    "        out = self.fc_layer(out)\n",
    "        \n",
    "        return out"
   ]
  },
  {
   "cell_type": "code",
   "execution_count": null,
   "metadata": {},
   "outputs": [],
   "source": []
  }
 ],
 "metadata": {
  "kernelspec": {
   "display_name": "arti",
   "language": "python",
   "name": "python3"
  },
  "language_info": {
   "codemirror_mode": {
    "name": "ipython",
    "version": 3
   },
   "file_extension": ".py",
   "mimetype": "text/x-python",
   "name": "python",
   "nbconvert_exporter": "python",
   "pygments_lexer": "ipython3",
   "version": "3.10.14"
  }
 },
 "nbformat": 4,
 "nbformat_minor": 2
}

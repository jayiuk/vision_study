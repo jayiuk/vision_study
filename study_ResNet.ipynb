{
 "cells": [
  {
   "cell_type": "markdown",
   "metadata": {},
   "source": [
    "![resnet](https://github.com/user-attachments/assets/c85e0a97-7212-447c-b575-82aabb7d1b78)"
   ]
  },
  {
   "cell_type": "markdown",
   "metadata": {},
   "source": [
    "- import libraries"
   ]
  },
  {
   "cell_type": "code",
   "execution_count": null,
   "metadata": {},
   "outputs": [],
   "source": [
    "import torch\n",
    "import torch.nn as nn\n",
    "import torch.optim as optim\n",
    "import torch.nn.init as init\n",
    "import torch.utils.data as data\n",
    "import torchvision.datasets as dset\n",
    "import torchvision.transforms as transforms\n",
    "from torch.utils.data import DataLoader"
   ]
  },
  {
   "cell_type": "code",
   "execution_count": null,
   "metadata": {},
   "outputs": [],
   "source": [
    "import shutil\n",
    "\n",
    "shutil.rmtree('images')"
   ]
  },
  {
   "cell_type": "code",
   "execution_count": null,
   "metadata": {},
   "outputs": [],
   "source": [
    "import os\n",
    "import requests\n",
    "\n",
    "# 디렉토리 생성\n",
    "try:\n",
    "    os.makedirs(\"images/dogs\", exist_ok=True)\n",
    "    os.makedirs(\"images/cats\", exist_ok=True)\n",
    "except Exception as e:\n",
    "    print(f\"Error creating directories: {e}\")\n",
    "\n",
    "# 이미지 다운로드 함수\n",
    "def download_image(url, folder):\n",
    "    response = requests.get(url)\n",
    "    if response.status_code == 200:\n",
    "        filename = os.path.join(folder, url.split(\"/\")[-1])\n",
    "        with open(filename, 'wb') as f:\n",
    "            f.write(response.content)\n",
    "        print(f\"Downloaded {url} to {filename}\")\n",
    "    else:\n",
    "        print(f\"Failed to download {url}\")\n",
    "\n",
    "# 이미지 다운로드\n",
    "dog_images = [\n",
    "    \"https://i.kinja-img.com/gawker-media/image/upload/s--WFkXeene--/c_scale,f_auto,fl_progressive,q_80,w_800/ol9ceoqxidudap8owlwn.jpg\",\n",
    "    \"https://www.rspcansw.org.au/wp-content/uploads/2017/08/50_a-feature_dogs-and-puppies_mobile.jpg\"\n",
    "]\n",
    "\n",
    "cat_images = [\n",
    "    \"https://www.catster.com/wp-content/uploads/2018/05/A-gray-cat-crying-looking-upset.jpg\",\n",
    "    \"https://www.scarymommy.com/wp-content/uploads/2018/01/c1.jpg?w=700\"\n",
    "]\n",
    "\n",
    "for url in dog_images:\n",
    "    download_image(url, \"images/dogs\")\n",
    "\n",
    "for url in cat_images:\n",
    "    download_image(url, \"images/cats\")"
   ]
  },
  {
   "cell_type": "markdown",
   "metadata": {},
   "source": [
    "- hyperparameter"
   ]
  },
  {
   "cell_type": "code",
   "execution_count": null,
   "metadata": {},
   "outputs": [],
   "source": [
    "batch_size= 1\n",
    "learning_rate = 0.0002\n",
    "num_epoch = 100"
   ]
  },
  {
   "cell_type": "markdown",
   "metadata": {},
   "source": [
    "- Data Loader"
   ]
  },
  {
   "cell_type": "code",
   "execution_count": null,
   "metadata": {},
   "outputs": [],
   "source": [
    "img_dir = './images'\n",
    "img_data = dset.ImageFolder(img_dir, transforms.Compose([\n",
    "                                     transforms.Resize(256),\n",
    "                                     transforms.RandomResizedCrop(224),\n",
    "                                     transforms.RandomHorizontalFlip(),\n",
    "                                     transforms.ToTensor(),\n",
    "]))\n",
    "train_loader = data.DataLoader(img_data, batch_size = batch_size, shuffle = True, num_workers = 2)"
   ]
  },
  {
   "cell_type": "markdown",
   "metadata": {},
   "source": [
    "- Model\n",
    "  - Basic Block\n",
    "    - 컨볼루션 연산과 활성화함수는 항상 붙어있음. 이를 함수로 만듬"
   ]
  },
  {
   "cell_type": "code",
   "execution_count": null,
   "metadata": {},
   "outputs": [],
   "source": [
    "def conv_block_1(in_dim, out_dim, act_fn, stride = 1):\n",
    "    model = nn.Sequential(\n",
    "        nn.Conv2d(in_dim, out_dim, kernel_size = 1, stride = stride),\n",
    "        act_fn,\n",
    "    )\n",
    "    return model\n",
    "\n",
    "def conv_block_3(in_dim, out_dim, act_fn):\n",
    "    model = nn.Sequential(\n",
    "        nn.Conv2d(in_dim, out_dim, kernel_size = 3, stride = 1, padding = 1),\n",
    "        act_fn,\n",
    "    )\n",
    "    return model"
   ]
  },
  {
   "cell_type": "markdown",
   "metadata": {},
   "source": [
    "- Model\n",
    "  - Bottle Neck Module\n",
    "    - 1x1 convolution -> 3x3 convolution -> 1x1 convolution\n",
    "    - 실선은 크기가 변하지 않는 경우, 점선은 크기가 줄어드는 경우\n",
    "    - down변수로 크기 감쇼 여부 표시, 조건문으로 경우의 수를 나눠서 구현\n",
    "    - Skip-connection은 단순 더하기로 정의되어 있음 -> 피쳐맵의 크기를 일치시켜야 함\n",
    "    - 차원을 맞춰주는 역할로 dim_equalizer 정의"
   ]
  },
  {
   "cell_type": "code",
   "execution_count": null,
   "metadata": {},
   "outputs": [],
   "source": [
    "class BottleNeck(nn.Module):\n",
    "    def __init__(self, in_dim, mid_dim, out_dim, act_fn, down = False):\n",
    "        super(BottleNeck, self).__init__()\n",
    "        self.down = down\n",
    "        \n",
    "        if self.down:\n",
    "            self.layer = nn.Sequential(\n",
    "                conv_block_1(in_dim, mid_dim, act_fn, 2),\n",
    "                conv_block_3(mid_dim, mid_dim, act_fn),\n",
    "                conv_block_1(mid_dim, out_dim, act_fn),\n",
    "            )\n",
    "            self.downsample = nn.Conv2d(in_dim, out_dim, 1, 2)\n",
    "        else:\n",
    "            self.layer = nn.Sequential(\n",
    "                conv_block_1(in_dim, mid_dim, act_fn),\n",
    "                conv_block_3(mid_dim, mid_dim, act_fn),\n",
    "                conv_block_1(mid_dim, out_dim, act_fn),\n",
    "            )\n",
    "        \n",
    "        self.dim_equalizer = nn.Conv2d(in_dim, out_dim, kernel_size = 1)\n",
    "        \n",
    "    def forward(self, x):\n",
    "        if self.down:\n",
    "            downsample = self.downsample(x)\n",
    "            out = self.layer(x)\n",
    "            out = out + downsample\n",
    "        else:\n",
    "            out = self.layer(x)\n",
    "            if x.size() is not out.size():\n",
    "                x = self.dim_equalizer(x)\n",
    "            out = out + x\n",
    "        return out"
   ]
  },
  {
   "cell_type": "markdown",
   "metadata": {},
   "source": [
    "- ResNet Model"
   ]
  },
  {
   "cell_type": "code",
   "execution_count": null,
   "metadata": {},
   "outputs": [],
   "source": [
    "class ResNet(nn.Module):\n",
    "    def __init__(self, base_dim, num_classes = 2):\n",
    "        super(ResNet, self).__init__()\n",
    "        self.act_fn = nn.ReLU()\n",
    "        self.layer_1 = nn.Sequential(\n",
    "            nn.Conv2d(3, base_dim, 7, 2, 3),\n",
    "            nn.ReLU(),\n",
    "            nn.MaxPool2d(3, 2, 1),\n",
    "        )\n",
    "        self.layer_2 = nn.Sequential(\n",
    "            BottleNeck(base_dim, base_dim, base_dim*4, self.act_fn),\n",
    "            BottleNeck(base_dim*4, base_dim, base_dim*4, self.act_fn),\n",
    "            BottleNeck(base_dim*4, base_dim, base_dim*4, self.act_fn, down = True),\n",
    "        )\n",
    "        self.layer_3 = nn.Sequential(\n",
    "            BottleNeck(base_dim*4, base_dim*2, base_dim*8, self.act_fn),\n",
    "            BottleNeck(base_dim*8, base_dim*2, base_dim*8, self.act_fn),\n",
    "            BottleNeck(base_dim*8, base_dim*2, base_dim*8, self.act_fn),\n",
    "            BottleNeck(base_dim*8, base_dim*2, base_dim*8, self.act_fn, down = True),\n",
    "        )\n",
    "        self.layer_4 = nn.Sequential(\n",
    "            BottleNeck(base_dim*8, base_dim*4, base_dim*16, self.act_fn),\n",
    "            BottleNeck(base_dim*16, base_dim*4, base_dim*16, self.act_fn),\n",
    "            BottleNeck(base_dim*16, base_dim*4, base_dim*16, self.act_fn),\n",
    "            BottleNeck(base_dim*16, base_dim*4, base_dim*16, self.act_fn),\n",
    "            BottleNeck(base_dim*16, base_dim*4, base_dim*16, self.act_fn),\n",
    "            BottleNeck(base_dim*16, base_dim*4, base_dim*16, self.act_fn, down = True),\n",
    "        )\n",
    "        self.layer_5 = nn.Sequential(\n",
    "            BottleNeck(base_dim*16, base_dim*8, base_dim*32, self.act_fn),\n",
    "            BottleNeck(base_dim*32, base_dim*8, base_dim*32, self.act_fn),\n",
    "            BottleNeck(base_dim*32, base_dim*8, base_dim*32, self.act_fn),\n",
    "        )\n",
    "        self.avgpool = nn.AvgPool2d(7, 1)\n",
    "        self.fc_layer = nn.Linear(base_dim*32, num_classes)\n",
    "        \n",
    "    def forward(self, x):\n",
    "        out1 = self.layer_1(x)\n",
    "        print(out1.size())\n",
    "        out2 = self.layer_2(out1)\n",
    "        print(out2.size())\n",
    "        out3 = self.layer_3(out2)\n",
    "        print(out3.size())\n",
    "        out4 = self.layer_4(out3)\n",
    "        print(out4.size())\n",
    "        out5 = self.layer_5(out4)\n",
    "        print(out5.size())\n",
    "        out6 = self.avgpool(out5)\n",
    "        print(out6.size())\n",
    "        out7 = out6.view(batch_size, -1)\n",
    "        print(out7.size())\n",
    "        out_f = self.fc_layer(out7)\n",
    "        \n",
    "        return out_f"
   ]
  },
  {
   "cell_type": "markdown",
   "metadata": {},
   "source": [
    "- torch.Size([1, 64, 56, 56])\n",
    "- torch.Size([1, 256, 28, 28])\n",
    "- torch.Size([1, 512, 14, 14])\n",
    "- torch.Size([1, 1024, 7, 7])\n",
    "- torch.Size([1, 2048, 7, 7])\n",
    "- torch.Size([1, 2048, 1, 1])\n",
    "- torch.Size([1, 2048])"
   ]
  },
  {
   "cell_type": "markdown",
   "metadata": {},
   "source": [
    "- layer_1\n",
    "  - 224X224 사이즈의 이미지가 컨볼루션 연산 -> 112X112가됨(소수점은 버림)\n",
    "  - pooling후 56X56으로 됨\n",
    "  - 최종 1, 64, 56, 56\n",
    "- layer_2\n",
    "  - down을 활용해 크기 감소 여부\n",
    "  - BottleNeck을 총 세번 지남\n",
    "  - 마지막 세번째에 크기 감소\n",
    "  - 56 X 56 -> 28 X 28\n",
    "- layer_3\n",
    "  - 차원은 512로 늘어남\n",
    "  - BottleNeck을 총 네번 지남\n",
    "  - 마지막에 크기 감소\n",
    "  - 28 X 28 -> 14 X 14\n",
    "- layer_4\n",
    "  - BottleNeck을 6번 지남\n",
    "  - 마지막 부분에서 크기 감소\n",
    "- layer_5\n",
    "  - 차원은 2048로 늘어남\n",
    "  - 크기 감소는 없음\n",
    "- layer_6\n",
    "  - pooling층\n",
    "  - avgpooling 사용\n",
    "  - 크기가 1 X 1로 줄어듬\n",
    "- Linear 들어가기 전\n",
    "  - 텐서를 재배열\n",
    "    - batch_size, channels X height X width 형태로 바꿈\n",
    "    - 1 X 2048 형태로 바뀜\n",
    "    - tensor.view\n",
    "      - 원소의 수를 유지하면서 텐서의 크기 변경\n",
    "      - -1 : 자동으로 크기 계산. 텐서의 나머지 차원들을 기반으로 자동으로 크기 계산"
   ]
  },
  {
   "cell_type": "markdown",
   "metadata": {},
   "source": [
    "- Optimizer & Loss"
   ]
  },
  {
   "cell_type": "code",
   "execution_count": null,
   "metadata": {},
   "outputs": [],
   "source": [
    "device = torch.device(\"cuda:0\" if torch.cuda.is_available() else \"cpu\")\n",
    "print(device)\n",
    "model = ResNet(base_dim = 64).to(device)\n",
    "for i in model.children():\n",
    "    print(i)\n",
    "loss_func = nn.CrossEntropyLoss()\n",
    "optimizer = optim.Adam(model.parameters(), lr = learning_rate)"
   ]
  },
  {
   "cell_type": "code",
   "execution_count": null,
   "metadata": {},
   "outputs": [],
   "source": [
    "for i in range(num_epoch):\n",
    "    for j, [image, label] in enumerate(train_loader):\n",
    "        x = image.to(device)\n",
    "        y_ = label.to(device)\n",
    "        optimizer.zero_grad()\n",
    "        output = model.forward(x)\n",
    "        loss = loss_func(output, y_)\n",
    "        loss.backward()\n",
    "        optimizer.step()\n",
    "    if i % 10 == 0:\n",
    "        print(loss)"
   ]
  },
  {
   "cell_type": "code",
   "execution_count": null,
   "metadata": {},
   "outputs": [],
   "source": []
  }
 ],
 "metadata": {
  "kernelspec": {
   "display_name": "arti",
   "language": "python",
   "name": "python3"
  },
  "language_info": {
   "codemirror_mode": {
    "name": "ipython",
    "version": 3
   },
   "file_extension": ".py",
   "mimetype": "text/x-python",
   "name": "python",
   "nbconvert_exporter": "python",
   "pygments_lexer": "ipython3",
   "version": "3.11.7"
  }
 },
 "nbformat": 4,
 "nbformat_minor": 2
}

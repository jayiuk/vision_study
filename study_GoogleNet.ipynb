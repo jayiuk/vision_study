{
 "cells": [
  {
   "cell_type": "markdown",
   "metadata": {},
   "source": [
    "![GoogleNet](https://github.com/user-attachments/assets/5b815a8d-e8af-4139-9759-ec4b2727e167)\n"
   ]
  },
  {
   "cell_type": "code",
   "execution_count": 1,
   "metadata": {},
   "outputs": [],
   "source": [
    "import numpy as np\n",
    "import torch\n",
    "import torch.nn as nn\n",
    "import torch.optim as optim\n",
    "import torch.nn.init as init\n",
    "import torch.utils.data as data\n",
    "import torchvision.datasets as dset\n",
    "import torchvision.transforms as transforms\n",
    "from torch.utils.data import DataLoader"
   ]
  },
  {
   "cell_type": "code",
   "execution_count": 2,
   "metadata": {},
   "outputs": [],
   "source": [
    "batch_size= 100\n",
    "learning_rate = 0.0002\n",
    "num_epoch = 200"
   ]
  },
  {
   "cell_type": "code",
   "execution_count": 3,
   "metadata": {},
   "outputs": [
    {
     "name": "stdout",
     "output_type": "stream",
     "text": [
      "Downloading https://www.cs.toronto.edu/~kriz/cifar-10-python.tar.gz to ../cifar-10-python.tar.gz\n"
     ]
    },
    {
     "name": "stderr",
     "output_type": "stream",
     "text": [
      "100%|██████████| 170498071/170498071 [00:24<00:00, 6949399.15it/s]\n"
     ]
    },
    {
     "name": "stdout",
     "output_type": "stream",
     "text": [
      "Extracting ../cifar-10-python.tar.gz to ../\n",
      "Files already downloaded and verified\n"
     ]
    }
   ],
   "source": [
    "train_d = dset.CIFAR10(root = \"../\", train = True, transform = transforms.Compose([\n",
    "                                                transforms.Resize(256),\n",
    "                                                transforms.RandomResizedCrop(224),\n",
    "                                                transforms.RandomHorizontalFlip(),\n",
    "                                                transforms.ToTensor(),\n",
    "]), download = True)\n",
    "test_d = dset.CIFAR10(root = \"../\", train = False, transform = transforms.Compose([\n",
    "                                                transforms.Resize(256),\n",
    "                                                transforms.RandomResizedCrop(224),\n",
    "                                                transforms.RandomHorizontalFlip(),\n",
    "                                                transforms.ToTensor()\n",
    "]), download = True)\n",
    "train_loader = data.DataLoader(dataset = train_d, batch_size = batch_size, shuffle = True, drop_last = True)\n",
    "test_loader = data.DataLoader(dataset = test_d, batch_size = batch_size, shuffle = False, drop_last = True)"
   ]
  },
  {
   "cell_type": "markdown",
   "metadata": {},
   "source": [
    "- Base Model\n",
    "  - 인셉션 모듈을 구성하는 4가지 연산을 함수로 정의"
   ]
  },
  {
   "cell_type": "code",
   "execution_count": 4,
   "metadata": {},
   "outputs": [],
   "source": [
    "def conv_1(in_dim, out_dim):\n",
    "    model = nn.Sequential(\n",
    "        nn.Conv2d(in_dim, out_dim, 1, 1),\n",
    "        nn.ReLU(),\n",
    "    )\n",
    "    return model\n",
    "\n",
    "def conv_1_3(in_dim, mid_dim, out_dim):\n",
    "    model = nn.Sequential(\n",
    "        nn.Conv2d(in_dim, mid_dim, 1, 1),\n",
    "        nn.ReLU(),\n",
    "        nn.Conv2d(mid_dim, out_dim, 3, 1, 1),\n",
    "        nn.ReLU()\n",
    "    )\n",
    "    return model\n",
    "\n",
    "def conv_1_5(in_dim, mid_dim, out_dim):\n",
    "    model = nn.Sequential(\n",
    "        nn.Conv2d(in_dim, mid_dim, 1, 1),\n",
    "        nn.ReLU(),\n",
    "        nn.Conv2d(mid_dim, out_dim, 5, 1, 2),\n",
    "        nn.ReLU()\n",
    "    )\n",
    "    return model\n",
    "\n",
    "def max_3_1(in_dim, out_dim):\n",
    "    model = nn.Sequential(\n",
    "        nn.MaxPool2d(3, 1, 1),\n",
    "        nn.Conv2d(in_dim, out_dim, 1, 1),\n",
    "        nn.ReLU()\n",
    "    )\n",
    "    return model"
   ]
  },
  {
   "cell_type": "markdown",
   "metadata": {},
   "source": [
    "- Inception Module\n",
    "  - 앞서 정의한 연산으로 인셉션 모듈 만들기"
   ]
  },
  {
   "cell_type": "code",
   "execution_count": 5,
   "metadata": {},
   "outputs": [],
   "source": [
    "class inception_module(nn.Module):\n",
    "    def __init__(self, in_dim, out_dim_1, mid_dim_3, out_dim_3, mid_dim_5, out_dim_5, pool):\n",
    "        super(inception_module, self).__init__()\n",
    "        self.conv_1 = conv_1(in_dim, out_dim_1)\n",
    "        self.conv_1_3 = conv_1_3(in_dim, mid_dim_3, out_dim_3)\n",
    "        self.conv_1_5 = conv_1_5(in_dim, mid_dim_5, out_dim_5)\n",
    "        self.max_3_1 = max_3_1(in_dim, pool)\n",
    "    \n",
    "    def forward(self, x):\n",
    "        out_1 = self.conv_1(x)\n",
    "        out_2 = self.conv_1_3(x)\n",
    "        out_3 = self.conv_1_5(x)\n",
    "        out_4 = self.max_3_1(x)\n",
    "        output = torch.cat([out_1, out_2, out_3, out_4], 1)\n",
    "        print(output.shape)\n",
    "        return output"
   ]
  },
  {
   "cell_type": "markdown",
   "metadata": {},
   "source": [
    "![GoogleNet_sheet](https://github.com/user-attachments/assets/b5f2a4f8-ae6d-4bb2-aa1a-b58036739024)\n"
   ]
  },
  {
   "cell_type": "code",
   "execution_count": null,
   "metadata": {},
   "outputs": [],
   "source": []
  }
 ],
 "metadata": {
  "kernelspec": {
   "display_name": "base",
   "language": "python",
   "name": "python3"
  },
  "language_info": {
   "codemirror_mode": {
    "name": "ipython",
    "version": 3
   },
   "file_extension": ".py",
   "mimetype": "text/x-python",
   "name": "python",
   "nbconvert_exporter": "python",
   "pygments_lexer": "ipython3",
   "version": "3.11.7"
  }
 },
 "nbformat": 4,
 "nbformat_minor": 2
}
